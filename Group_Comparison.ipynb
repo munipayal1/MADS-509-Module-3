{
 "cells": [
  {
   "cell_type": "markdown",
   "metadata": {},
   "source": [
    "# ADS 509 Module 3: Group Comparison \n",
    "\n",
    "The task of comparing two groups of text is fundamental to textual analysis. There are innumerable applications: survey respondents from different segments of customers, speeches by different political parties, words used in Tweets by different constituencies, etc. In this assignment you will build code to effect comparisons between groups of text data, using the ideas learned in reading and lecture.\n",
    "\n",
    "This assignment asks you to analyze the lyrics and Twitter descriptions for the two artists you selected in Module 1. If the results from that pull were not to your liking, you are welcome to use the zipped data from the “Assignment Materials” section. Specifically, you are asked to do the following: \n",
    "\n",
    "* Read in the data, normalize the text, and tokenize it. When you tokenize your Twitter descriptions, keep hashtags and emojis in your token set. \n",
    "* Calculate descriptive statistics on the two sets of lyrics and compare the results. \n",
    "* For each of the four corpora, find the words that are unique to that corpus. \n",
    "* Build word clouds for all four corpora. \n",
    "\n",
    "Each one of the analyses has a section dedicated to it below. Before beginning the analysis there is a section for you to read in the data and do your cleaning (tokenization and normalization). \n"
   ]
  },
  {
   "cell_type": "markdown",
   "metadata": {},
   "source": [
    "## General Assignment Instructions\n",
    "\n",
    "These instructions are included in every assignment, to remind you of the coding standards for the class. Feel free to delete this cell after reading it. \n",
    "\n",
    "One sign of mature code is conforming to a style guide. We recommend the [Google Python Style Guide](https://google.github.io/styleguide/pyguide.html). If you use a different style guide, please include a cell with a link. \n",
    "\n",
    "Your code should be relatively easy-to-read, sensibly commented, and clean. Writing code is a messy process, so please be sure to edit your final submission. Remove any cells that are not needed or parts of cells that contain unnecessary code. Remove inessential `import` statements and make sure that all such statements are moved into the designated cell. \n",
    "\n",
    "Make use of non-code cells for written commentary. These cells should be grammatical and clearly written. In some of these cells you will have questions to answer. The questions will be marked by a \"Q:\" and will have a corresponding \"A:\" spot for you. *Make sure to answer every question marked with a `Q:` for full credit.* \n"
   ]
  },
  {
   "cell_type": "code",
   "execution_count": 1,
   "metadata": {},
   "outputs": [],
   "source": [
    "import os\n",
    "import re\n",
    "import emoji\n",
    "import pandas as pd\n",
    "\n",
    "from collections import Counter, defaultdict\n",
    "from nltk.corpus import stopwords\n",
    "from string import punctuation\n",
    "from wordcloud import WordCloud \n",
    "\n",
    "from sklearn.feature_extraction.text import TfidfTransformer, CountVectorizer\n"
   ]
  },
  {
   "cell_type": "code",
   "execution_count": 147,
   "metadata": {},
   "outputs": [],
   "source": [
    "# Use this space for any additional import statements you need\n",
    "from lexical_diversity import lex_div as ld\n",
    "from matplotlib import pyplot as plt\n",
    "import nltk\n"
   ]
  },
  {
   "cell_type": "code",
   "execution_count": 3,
   "metadata": {},
   "outputs": [],
   "source": [
    "# Place any addtional functions or constants you need here. \n",
    "\n",
    "# Some punctuation variations\n",
    "punctuation = set(punctuation) # speeds up comparison\n",
    "tw_punct = punctuation - {\"#\"}\n",
    "\n",
    "# Stopwords\n",
    "sw = stopwords.words(\"english\")\n",
    "\n",
    "# Two useful regex\n",
    "whitespace_pattern = re.compile(r\"\\s+\")\n",
    "hashtag_pattern = re.compile(r\"^#[0-9a-zA-Z]+\")\n",
    "\n",
    "# It's handy to have a full set of emojis\n",
    "#all_language_emojis = set()\n",
    "\n",
    "#for country in emoji.is_emoji : \n",
    "#    for em in emoji.is_emoji[country] : \n",
    "#        all_language_emojis.add(em)\n",
    "\n",
    "# and now our functions\n",
    "\n",
    "def is_emoji(s):\n",
    "    return(emoji.is_emoji(s))\n",
    "\n",
    "def contains_emoji(s):\n",
    "    \n",
    "    s = str(s)\n",
    "    emojis = [ch for ch in s if is_emoji(ch)]\n",
    "\n",
    "    return(len(emojis) > 0)\n",
    "\n",
    "def remove_stop(tokens) :\n",
    "    # modify this function to remove stopwords\n",
    "    return(tokens)\n",
    " \n",
    "def remove_punctuation(text, punct_set=tw_punct) : \n",
    "    return(\"\".join([ch for ch in text if ch not in punct_set]))\n",
    "\n",
    "def prepare(text, pipeline) : \n",
    "    tokens = str(text)\n",
    "    \n",
    "    for transform in pipeline : \n",
    "        tokens = transform(tokens)\n",
    "        \n",
    "    return(tokens)\n"
   ]
  },
  {
   "cell_type": "code",
   "execution_count": 153,
   "metadata": {},
   "outputs": [],
   "source": [
    "def descriptive_stats(tokens, num_tokens = 5, verbose=True) :\n",
    "    \"\"\"\n",
    "        Given a list of tokens, print number of tokens, number of unique tokens, \n",
    "        number of characters, lexical diversity, and num_tokens most common\n",
    "        tokens. \n",
    "    \"\"\"\n",
    "    \n",
    "    tokens = str(tokens).split()\n",
    "    \n",
    "    # Fill in the correct values here. \n",
    "    num_tokens = len(tokens)\n",
    "    #code beolow from: https://stackoverflow.com/\n",
    "    #questions/33726361/counting-the-number-of-\n",
    "    #unique-words-in-a-list\n",
    "    set_num_tokens = set(tokens)\n",
    "    num_unique_tokens = len(set_num_tokens)\n",
    "    #below code from: https://pypi.org/project/lexical-diversity/\n",
    "    lexical_diversity = ld.ttr(tokens)\n",
    "    #source: https://stackoverflow.com/questions/25934586/\n",
    "    #finding-the-amount-of-characters-of-all-words-in-a-\n",
    "    #list-in-python\n",
    "    num_characters = sum(len(i) for i in tokens)\n",
    "    \n",
    "    #this is from the module 3.1 presentation\n",
    "    top_words = nltk.FreqDist(tokens).most_common(5)\n",
    "  \n",
    "    \n",
    "    if verbose :        \n",
    "        print(f\"There are {num_tokens} tokens in the data.\")\n",
    "        print(f\"There are {num_unique_tokens} unique tokens in the data.\")\n",
    "        print(f\"There are {num_characters} characters in the data.\")\n",
    "        print(f\"The lexical diversity is {lexical_diversity:.3f} in the data.\")\n",
    "        print(f\"The top 5 words are {top_words} in the data.\")\n",
    "    \n",
    "        # print the five most common tokens\n",
    "        \n",
    "    return([num_tokens, num_unique_tokens,\n",
    "            lexical_diversity,\n",
    "            num_characters])\n",
    "    "
   ]
  },
  {
   "cell_type": "code",
   "execution_count": 154,
   "metadata": {},
   "outputs": [],
   "source": [
    "def tokenize(text) : \n",
    "    \"\"\" Splitting on whitespace rather than the book's tokenize function. That \n",
    "        function will drop tokens like '#hashtag' or '2A', which we need for Twitter. \"\"\"\n",
    "    \n",
    "    # modify this function to return tokens\n",
    "    text = text.lower().strip().split()\n",
    "    text = [w for w in text if w not in sw and w.isalpha]\n",
    "    \n",
    "    return(text)"
   ]
  },
  {
   "cell_type": "markdown",
   "metadata": {},
   "source": [
    "## Data Ingestion\n",
    "\n",
    "Use this section to ingest your data into the data structures you plan to use. Typically this will be a dictionary or a pandas DataFrame."
   ]
  },
  {
   "cell_type": "code",
   "execution_count": 155,
   "metadata": {},
   "outputs": [],
   "source": [
    "# Feel fre to use the below cells as an example or read in the data in a way you prefer\n",
    "\n",
    "data_location = \"\" # change to your location if it is not in the same directory as your notebook\n",
    "twitter_folder = \"twitter/\"\n",
    "lyrics_folder = \"lyrics/\"\n",
    "\n",
    "artist_files = {'cher':'cher_followers_data.txt',\n",
    "                'robyn':'robynkonichiwa_followers_data.txt'}\n"
   ]
  },
  {
   "cell_type": "code",
   "execution_count": 156,
   "metadata": {},
   "outputs": [],
   "source": [
    "twitter_data = pd.read_csv(data_location + twitter_folder + artist_files['cher'],\n",
    "                           sep=\"\\t\",\n",
    "                           quoting=3)\n",
    "\n",
    "twitter_data['artist'] = \"cher\""
   ]
  },
  {
   "cell_type": "code",
   "execution_count": 157,
   "metadata": {},
   "outputs": [],
   "source": [
    "twitter_data_2 = pd.read_csv(data_location + twitter_folder + artist_files['robyn'],\n",
    "                             sep=\"\\t\",\n",
    "                             quoting=3)\n",
    "twitter_data_2['artist'] = \"robyn\"\n",
    "\n",
    "twitter_data = pd.concat([\n",
    "    twitter_data,twitter_data_2], ignore_index=True)\n",
    "    \n",
    "del(twitter_data_2)"
   ]
  },
  {
   "cell_type": "code",
   "execution_count": 158,
   "metadata": {},
   "outputs": [
    {
     "data": {
      "text/html": [
       "<div>\n",
       "<style scoped>\n",
       "    .dataframe tbody tr th:only-of-type {\n",
       "        vertical-align: middle;\n",
       "    }\n",
       "\n",
       "    .dataframe tbody tr th {\n",
       "        vertical-align: top;\n",
       "    }\n",
       "\n",
       "    .dataframe thead th {\n",
       "        text-align: right;\n",
       "    }\n",
       "</style>\n",
       "<table border=\"1\" class=\"dataframe\">\n",
       "  <thead>\n",
       "    <tr style=\"text-align: right;\">\n",
       "      <th></th>\n",
       "      <th>screen_name</th>\n",
       "      <th>name</th>\n",
       "      <th>id</th>\n",
       "      <th>location</th>\n",
       "      <th>followers_count</th>\n",
       "      <th>friends_count</th>\n",
       "      <th>description</th>\n",
       "      <th>artist</th>\n",
       "    </tr>\n",
       "  </thead>\n",
       "  <tbody>\n",
       "    <tr>\n",
       "      <th>0</th>\n",
       "      <td>hsmcnp</td>\n",
       "      <td>Country Girl</td>\n",
       "      <td>35152213</td>\n",
       "      <td>NaN</td>\n",
       "      <td>1302</td>\n",
       "      <td>1014</td>\n",
       "      <td>NaN</td>\n",
       "      <td>cher</td>\n",
       "    </tr>\n",
       "    <tr>\n",
       "      <th>1</th>\n",
       "      <td>horrormomy</td>\n",
       "      <td>Jeny</td>\n",
       "      <td>742153090850164742</td>\n",
       "      <td>Earth</td>\n",
       "      <td>81</td>\n",
       "      <td>514</td>\n",
       "      <td>𝙿𝚛𝚘𝚞𝚍 𝚜𝚞𝚙𝚙𝚘𝚛𝚝𝚎𝚛 𝚘𝚏 𝚖𝚎𝚜𝚜𝚢 𝚋𝚞𝚗𝚜 &amp; 𝚕𝚎𝚐𝚐𝚒𝚗𝚐𝚜</td>\n",
       "      <td>cher</td>\n",
       "    </tr>\n",
       "    <tr>\n",
       "      <th>2</th>\n",
       "      <td>anju79990584</td>\n",
       "      <td>anju</td>\n",
       "      <td>1496463006451974150</td>\n",
       "      <td>NaN</td>\n",
       "      <td>13</td>\n",
       "      <td>140</td>\n",
       "      <td>163㎝／愛かっぷ💜26歳🍒 工〇好きな女の子💓 フォローしてくれたらDMします🧡</td>\n",
       "      <td>cher</td>\n",
       "    </tr>\n",
       "  </tbody>\n",
       "</table>\n",
       "</div>"
      ],
      "text/plain": [
       "    screen_name          name                   id location  followers_count  \\\n",
       "0        hsmcnp  Country Girl             35152213      NaN             1302   \n",
       "1    horrormomy          Jeny   742153090850164742    Earth               81   \n",
       "2  anju79990584          anju  1496463006451974150      NaN               13   \n",
       "\n",
       "   friends_count                                description artist  \n",
       "0           1014                                        NaN   cher  \n",
       "1            514   𝙿𝚛𝚘𝚞𝚍 𝚜𝚞𝚙𝚙𝚘𝚛𝚝𝚎𝚛 𝚘𝚏 𝚖𝚎𝚜𝚜𝚢 𝚋𝚞𝚗𝚜 & 𝚕𝚎𝚐𝚐𝚒𝚗𝚐𝚜   cher  \n",
       "2            140  163㎝／愛かっぷ💜26歳🍒 工〇好きな女の子💓 フォローしてくれたらDMします🧡   cher  "
      ]
     },
     "execution_count": 158,
     "metadata": {},
     "output_type": "execute_result"
    }
   ],
   "source": [
    "twitter_data.head(3)"
   ]
  },
  {
   "cell_type": "code",
   "execution_count": 159,
   "metadata": {},
   "outputs": [],
   "source": [
    "lyrics_data = pd.DataFrame()"
   ]
  },
  {
   "cell_type": "code",
   "execution_count": 160,
   "metadata": {},
   "outputs": [],
   "source": [
    "#I could not figure out how to do this with a \n",
    "#dataframe so I modified my code from assignment 2\n",
    "#where the key is the song name\n",
    "#and the lyrics are the value\n",
    "#source for reading specific lines:\n",
    "#https://www.geeksforgeeks.org/how-\n",
    "#to-read-specific-lines-from-a-file-in-python/\n",
    "#sources for using .strip for []:\n",
    "#https://theprogrammingexpert.com/remove-brackets-\n",
    "#from-string-python/#:~:text=Using%20strip()\n",
    "#%20to%20Remove,and%20end%20of%20a%20string.\n",
    "\n",
    "lyrics_data1 = defaultdict(list)\n",
    "\n",
    "\n",
    "def storeLyrics(lyrics):\n",
    "\n",
    "    with os.scandir('C:/Users/munip/Downloads/MADS-509-Module-2/lyrics/' + lyrics) as entries:\n",
    "        for entry in entries:\n",
    "            entryname = entry.name\n",
    "            with open('C:/Users/munip/Downloads/MADS-509-Module-2/lyrics/' + lyrics + \"/\" + entryname) as file:\n",
    "                contents = file.readline().strip()\n",
    "                contents = contents.strip('\"')\n",
    "                x = file.readlines()\n",
    "                value = str(x[3:]).strip(\"[]\")\n",
    "                value = value.strip('\"')\n",
    "                lyrics_data1[contents].append(value)\n",
    "                \n",
    "                \n",
    "                \n",
    "            "
   ]
  },
  {
   "cell_type": "code",
   "execution_count": 161,
   "metadata": {},
   "outputs": [],
   "source": [
    "#cher to dictionary\n",
    "storeLyrics('cher')"
   ]
  },
  {
   "cell_type": "code",
   "execution_count": 162,
   "metadata": {},
   "outputs": [],
   "source": [
    "#cher to dataframe\n",
    "#source for turning this into a dataframe:\n",
    "#https://stackoverflow.com/questions/68705455/\n",
    "#turning-a-dictionary-with-one-key-and-multiple\n",
    "#-values-to-pandas-dataframe\n",
    "\n",
    "lyrics_data = (pd.DataFrame.from_dict(lyrics_data1, orient='index').T\n",
    "   .melt(var_name='song', value_name='lyrics'))\n"
   ]
  },
  {
   "cell_type": "code",
   "execution_count": 163,
   "metadata": {},
   "outputs": [
    {
     "data": {
      "text/html": [
       "<div>\n",
       "<style scoped>\n",
       "    .dataframe tbody tr th:only-of-type {\n",
       "        vertical-align: middle;\n",
       "    }\n",
       "\n",
       "    .dataframe tbody tr th {\n",
       "        vertical-align: top;\n",
       "    }\n",
       "\n",
       "    .dataframe thead th {\n",
       "        text-align: right;\n",
       "    }\n",
       "</style>\n",
       "<table border=\"1\" class=\"dataframe\">\n",
       "  <thead>\n",
       "    <tr style=\"text-align: right;\">\n",
       "      <th></th>\n",
       "      <th>song</th>\n",
       "      <th>lyrics</th>\n",
       "    </tr>\n",
       "  </thead>\n",
       "  <tbody>\n",
       "    <tr>\n",
       "      <th>0</th>\n",
       "      <td>88 Degrees</td>\n",
       "      <td>Stuck in L.A., ain't got no friends \\n\", 'And ...</td>\n",
       "    </tr>\n",
       "    <tr>\n",
       "      <th>1</th>\n",
       "      <td>A Different Kind Of Love Song</td>\n",
       "      <td>'What if the world was crazy and I was sane\\n'...</td>\n",
       "    </tr>\n",
       "    <tr>\n",
       "      <th>2</th>\n",
       "      <td>After All</td>\n",
       "      <td>'Well, here we are again\\n', 'I guess it must ...</td>\n",
       "    </tr>\n",
       "  </tbody>\n",
       "</table>\n",
       "</div>"
      ],
      "text/plain": [
       "                            song  \\\n",
       "0                     88 Degrees   \n",
       "1  A Different Kind Of Love Song   \n",
       "2                      After All   \n",
       "\n",
       "                                              lyrics  \n",
       "0  Stuck in L.A., ain't got no friends \\n\", 'And ...  \n",
       "1  'What if the world was crazy and I was sane\\n'...  \n",
       "2  'Well, here we are again\\n', 'I guess it must ...  "
      ]
     },
     "execution_count": 163,
     "metadata": {},
     "output_type": "execute_result"
    }
   ],
   "source": [
    "lyrics_data.head(3)"
   ]
  },
  {
   "cell_type": "code",
   "execution_count": 164,
   "metadata": {},
   "outputs": [],
   "source": [
    "lyrics_data['artist'] = \"cher\""
   ]
  },
  {
   "cell_type": "code",
   "execution_count": 165,
   "metadata": {},
   "outputs": [
    {
     "data": {
      "text/html": [
       "<div>\n",
       "<style scoped>\n",
       "    .dataframe tbody tr th:only-of-type {\n",
       "        vertical-align: middle;\n",
       "    }\n",
       "\n",
       "    .dataframe tbody tr th {\n",
       "        vertical-align: top;\n",
       "    }\n",
       "\n",
       "    .dataframe thead th {\n",
       "        text-align: right;\n",
       "    }\n",
       "</style>\n",
       "<table border=\"1\" class=\"dataframe\">\n",
       "  <thead>\n",
       "    <tr style=\"text-align: right;\">\n",
       "      <th></th>\n",
       "      <th>song</th>\n",
       "      <th>lyrics</th>\n",
       "      <th>artist</th>\n",
       "    </tr>\n",
       "  </thead>\n",
       "  <tbody>\n",
       "    <tr>\n",
       "      <th>0</th>\n",
       "      <td>88 Degrees</td>\n",
       "      <td>Stuck in L.A., ain't got no friends \\n\", 'And ...</td>\n",
       "      <td>cher</td>\n",
       "    </tr>\n",
       "    <tr>\n",
       "      <th>1</th>\n",
       "      <td>A Different Kind Of Love Song</td>\n",
       "      <td>'What if the world was crazy and I was sane\\n'...</td>\n",
       "      <td>cher</td>\n",
       "    </tr>\n",
       "    <tr>\n",
       "      <th>2</th>\n",
       "      <td>After All</td>\n",
       "      <td>'Well, here we are again\\n', 'I guess it must ...</td>\n",
       "      <td>cher</td>\n",
       "    </tr>\n",
       "  </tbody>\n",
       "</table>\n",
       "</div>"
      ],
      "text/plain": [
       "                            song  \\\n",
       "0                     88 Degrees   \n",
       "1  A Different Kind Of Love Song   \n",
       "2                      After All   \n",
       "\n",
       "                                              lyrics artist  \n",
       "0  Stuck in L.A., ain't got no friends \\n\", 'And ...   cher  \n",
       "1  'What if the world was crazy and I was sane\\n'...   cher  \n",
       "2  'Well, here we are again\\n', 'I guess it must ...   cher  "
      ]
     },
     "execution_count": 165,
     "metadata": {},
     "output_type": "execute_result"
    }
   ],
   "source": [
    "lyrics_data.head(3)"
   ]
  },
  {
   "cell_type": "code",
   "execution_count": 166,
   "metadata": {},
   "outputs": [],
   "source": [
    "#doing the same for Robyn\n",
    "#storing lyrics data\n",
    "#with song name as key\n",
    "\n",
    "#I feel like there is a more efficient way\n",
    "#of doing this,\n",
    "#but I spent too much of time trying to figure this out\n",
    "#so for now, I will keep what works"
   ]
  },
  {
   "cell_type": "code",
   "execution_count": 167,
   "metadata": {},
   "outputs": [],
   "source": [
    "#updated file name to lyrics_data2 in both\n",
    "#below and in the storeLyrics function\n",
    "#this is so that we can do artist = robyn\n",
    "#in the dataframe\n",
    "lyrics_data2 = defaultdict(list)\n",
    "\n",
    "\n",
    "def storeLyrics(lyrics):\n",
    "\n",
    "    with os.scandir('C:/Users/munip/Downloads/MADS-509-Module-2/lyrics/' + lyrics) as entries:\n",
    "        for entry in entries:\n",
    "            entryname = entry.name\n",
    "            with open('C:/Users/munip/Downloads/MADS-509-Module-2/lyrics/' + lyrics + \"/\" + entryname) as file:\n",
    "                contents = file.readline().strip()\n",
    "                contents = contents.strip('\"')\n",
    "                x = file.readlines()\n",
    "                value = str(x[3:]).strip(\"[]\")\n",
    "                value = value.strip('\"')\n",
    "                lyrics_data2[contents].append(value)"
   ]
  },
  {
   "cell_type": "code",
   "execution_count": 168,
   "metadata": {},
   "outputs": [],
   "source": [
    "#calling function for robyn\n",
    "storeLyrics('robyn')"
   ]
  },
  {
   "cell_type": "code",
   "execution_count": 169,
   "metadata": {},
   "outputs": [],
   "source": [
    "#robyn to dataframe\n",
    "#source for turning this into a dataframe:\n",
    "#https://stackoverflow.com/questions/68705455/\n",
    "#turning-a-dictionary-with-one-key-and-multiple\n",
    "#-values-to-pandas-dataframe\n",
    "\n",
    "lyrics_data2 = (pd.DataFrame.from_dict(lyrics_data2, orient='index').T\n",
    "   .melt(var_name='song', value_name='lyrics'))"
   ]
  },
  {
   "cell_type": "code",
   "execution_count": 170,
   "metadata": {},
   "outputs": [],
   "source": [
    "lyrics_data2['artist'] = \"robyn\""
   ]
  },
  {
   "cell_type": "code",
   "execution_count": 178,
   "metadata": {},
   "outputs": [
    {
     "data": {
      "text/html": [
       "<div>\n",
       "<style scoped>\n",
       "    .dataframe tbody tr th:only-of-type {\n",
       "        vertical-align: middle;\n",
       "    }\n",
       "\n",
       "    .dataframe tbody tr th {\n",
       "        vertical-align: top;\n",
       "    }\n",
       "\n",
       "    .dataframe thead th {\n",
       "        text-align: right;\n",
       "    }\n",
       "</style>\n",
       "<table border=\"1\" class=\"dataframe\">\n",
       "  <thead>\n",
       "    <tr style=\"text-align: right;\">\n",
       "      <th></th>\n",
       "      <th>song</th>\n",
       "      <th>lyrics</th>\n",
       "      <th>artist</th>\n",
       "    </tr>\n",
       "  </thead>\n",
       "  <tbody>\n",
       "    <tr>\n",
       "      <th>0</th>\n",
       "      <td>88 Days</td>\n",
       "      <td>'I light a candle in the morning \\n', 'To sign...</td>\n",
       "      <td>robyn</td>\n",
       "    </tr>\n",
       "    <tr>\n",
       "      <th>1</th>\n",
       "      <td>Ain't No Thing</td>\n",
       "      <td>'[Verse 1:]\\n', 'Boy you gotta want me, really...</td>\n",
       "      <td>robyn</td>\n",
       "    </tr>\n",
       "    <tr>\n",
       "      <th>2</th>\n",
       "      <td>Anytime You Like</td>\n",
       "      <td>It's like you're waiting for me to start\\n\", \"...</td>\n",
       "      <td>robyn</td>\n",
       "    </tr>\n",
       "  </tbody>\n",
       "</table>\n",
       "</div>"
      ],
      "text/plain": [
       "               song                                             lyrics artist\n",
       "0           88 Days  'I light a candle in the morning \\n', 'To sign...  robyn\n",
       "1    Ain't No Thing  '[Verse 1:]\\n', 'Boy you gotta want me, really...  robyn\n",
       "2  Anytime You Like  It's like you're waiting for me to start\\n\", \"...  robyn"
      ]
     },
     "execution_count": 178,
     "metadata": {},
     "output_type": "execute_result"
    }
   ],
   "source": [
    "lyrics_data2.head(3)"
   ]
  },
  {
   "cell_type": "code",
   "execution_count": 179,
   "metadata": {},
   "outputs": [],
   "source": [
    "#as seen with twitter data above\n",
    "#we will concat the 2 dataframes\n",
    "\n",
    "#added ignore_index = true from source:\n",
    "#https://stackoverflow.com/questions/\n",
    "#35528119/pandas-recalculate-index\n",
    "#-after-a-concatenation when I saw that \n",
    "#the index does not reset - did that for twitter\n",
    "#as well\n",
    "\n",
    "lyrics_data = pd.concat([\n",
    "    lyrics_data,lyrics_data2], ignore_index=True)\n",
    "    \n",
    "del(lyrics_data2)"
   ]
  },
  {
   "cell_type": "code",
   "execution_count": 180,
   "metadata": {},
   "outputs": [
    {
     "data": {
      "text/html": [
       "<div>\n",
       "<style scoped>\n",
       "    .dataframe tbody tr th:only-of-type {\n",
       "        vertical-align: middle;\n",
       "    }\n",
       "\n",
       "    .dataframe tbody tr th {\n",
       "        vertical-align: top;\n",
       "    }\n",
       "\n",
       "    .dataframe thead th {\n",
       "        text-align: right;\n",
       "    }\n",
       "</style>\n",
       "<table border=\"1\" class=\"dataframe\">\n",
       "  <thead>\n",
       "    <tr style=\"text-align: right;\">\n",
       "      <th></th>\n",
       "      <th>song</th>\n",
       "      <th>lyrics</th>\n",
       "      <th>artist</th>\n",
       "      <th>tokens</th>\n",
       "      <th>num_tokens</th>\n",
       "    </tr>\n",
       "  </thead>\n",
       "  <tbody>\n",
       "    <tr>\n",
       "      <th>0</th>\n",
       "      <td>88 Degrees</td>\n",
       "      <td>Stuck in L.A., ain't got no friends \\n\", 'And ...</td>\n",
       "      <td>cher</td>\n",
       "      <td>[stuck, la, aint, got, friends, n, hollywood, ...</td>\n",
       "      <td>246.0</td>\n",
       "    </tr>\n",
       "    <tr>\n",
       "      <th>1</th>\n",
       "      <td>A Different Kind Of Love Song</td>\n",
       "      <td>'What if the world was crazy and I was sane\\n'...</td>\n",
       "      <td>cher</td>\n",
       "      <td>[world, crazy, sanen, would, strangen, cant, b...</td>\n",
       "      <td>145.0</td>\n",
       "    </tr>\n",
       "    <tr>\n",
       "      <th>2</th>\n",
       "      <td>After All</td>\n",
       "      <td>'Well, here we are again\\n', 'I guess it must ...</td>\n",
       "      <td>cher</td>\n",
       "      <td>[well, againn, guess, must, faten, weve, tried...</td>\n",
       "      <td>146.0</td>\n",
       "    </tr>\n",
       "    <tr>\n",
       "      <th>3</th>\n",
       "      <td>Again</td>\n",
       "      <td>'Again evening finds me at your door \\n', 'Her...</td>\n",
       "      <td>cher</td>\n",
       "      <td>[evening, finds, door, n, ask, n, could, try, ...</td>\n",
       "      <td>48.0</td>\n",
       "    </tr>\n",
       "    <tr>\n",
       "      <th>4</th>\n",
       "      <td>Alfie</td>\n",
       "      <td>What's it all about, Alfie?\\n\", 'Is it just fo...</td>\n",
       "      <td>cher</td>\n",
       "      <td>[whats, alfien, moment, liven, whats, sort, al...</td>\n",
       "      <td>69.0</td>\n",
       "    </tr>\n",
       "  </tbody>\n",
       "</table>\n",
       "</div>"
      ],
      "text/plain": [
       "                            song  \\\n",
       "0                     88 Degrees   \n",
       "1  A Different Kind Of Love Song   \n",
       "2                      After All   \n",
       "3                          Again   \n",
       "4                          Alfie   \n",
       "\n",
       "                                              lyrics artist  \\\n",
       "0  Stuck in L.A., ain't got no friends \\n\", 'And ...   cher   \n",
       "1  'What if the world was crazy and I was sane\\n'...   cher   \n",
       "2  'Well, here we are again\\n', 'I guess it must ...   cher   \n",
       "3  'Again evening finds me at your door \\n', 'Her...   cher   \n",
       "4  What's it all about, Alfie?\\n\", 'Is it just fo...   cher   \n",
       "\n",
       "                                              tokens  num_tokens  \n",
       "0  [stuck, la, aint, got, friends, n, hollywood, ...       246.0  \n",
       "1  [world, crazy, sanen, would, strangen, cant, b...       145.0  \n",
       "2  [well, againn, guess, must, faten, weve, tried...       146.0  \n",
       "3  [evening, finds, door, n, ask, n, could, try, ...        48.0  \n",
       "4  [whats, alfien, moment, liven, whats, sort, al...        69.0  "
      ]
     },
     "execution_count": 180,
     "metadata": {},
     "output_type": "execute_result"
    }
   ],
   "source": [
    "lyrics_data.head(5)"
   ]
  },
  {
   "cell_type": "markdown",
   "metadata": {},
   "source": [
    "## Tokenization and Normalization\n",
    "\n",
    "In this next section, tokenize and normalize your data. We recommend the following cleaning. \n",
    "\n",
    "**Lyrics** \n",
    "\n",
    "* Remove song titles\n",
    "* Casefold to lowercase\n",
    "* Remove punctuation\n",
    "* Split on whitespace\n",
    "* Remove stopwords (optional)\n",
    "\n",
    "Removal of stopwords is up to you. Your descriptive statistic comparison will be different if you include stopwords, though TF-IDF should still find interesting features for you.\n",
    "\n",
    "**Twitter Descriptions** \n",
    "\n",
    "* Casefold to lowercase\n",
    "* Remove punctuation other than emojis or hashtags\n",
    "* Split on whitespace\n",
    "* Remove stopwords\n",
    "\n",
    "Removing stopwords seems sensible for the Twitter description data. Remember to leave in emojis and hashtags, since you analyze those. "
   ]
  },
  {
   "cell_type": "code",
   "execution_count": 181,
   "metadata": {},
   "outputs": [],
   "source": [
    "# apply the `pipeline` techniques from BTAP Ch 1 or 5\n",
    "#saw in the announcements to remove punctuation from \n",
    "#the NLTK list, but wasn't too sure what that meant\n",
    "\n",
    "my_pipeline = [str.lower, remove_punctuation, tokenize, remove_stop]\n",
    "\n",
    "lyrics_data[\"tokens\"] = lyrics_data[\"lyrics\"].apply(prepare,pipeline=my_pipeline)\n",
    "lyrics_data[\"num_tokens\"] = lyrics_data[\"tokens\"].map(len) \n",
    "\n",
    "twitter_data[\"tokens\"] = twitter_data[\"description\"].apply(prepare,pipeline=my_pipeline)\n",
    "twitter_data[\"num_tokens\"] = twitter_data[\"tokens\"].map(len) \n"
   ]
  },
  {
   "cell_type": "code",
   "execution_count": 182,
   "metadata": {},
   "outputs": [],
   "source": [
    "twitter_data['has_emoji'] = twitter_data[\"description\"].apply(contains_emoji)"
   ]
  },
  {
   "cell_type": "markdown",
   "metadata": {},
   "source": [
    "Let's take a quick look at some descriptions with emojis."
   ]
  },
  {
   "cell_type": "code",
   "execution_count": 183,
   "metadata": {},
   "outputs": [
    {
     "data": {
      "text/html": [
       "<div>\n",
       "<style scoped>\n",
       "    .dataframe tbody tr th:only-of-type {\n",
       "        vertical-align: middle;\n",
       "    }\n",
       "\n",
       "    .dataframe tbody tr th {\n",
       "        vertical-align: top;\n",
       "    }\n",
       "\n",
       "    .dataframe thead th {\n",
       "        text-align: right;\n",
       "    }\n",
       "</style>\n",
       "<table border=\"1\" class=\"dataframe\">\n",
       "  <thead>\n",
       "    <tr style=\"text-align: right;\">\n",
       "      <th></th>\n",
       "      <th>artist</th>\n",
       "      <th>description</th>\n",
       "      <th>tokens</th>\n",
       "    </tr>\n",
       "  </thead>\n",
       "  <tbody>\n",
       "    <tr>\n",
       "      <th>2449555</th>\n",
       "      <td>cher</td>\n",
       "      <td>You came in like a wave when I was feeling alr...</td>\n",
       "      <td>[came, like, wave, feeling, alright, 💜]</td>\n",
       "    </tr>\n",
       "    <tr>\n",
       "      <th>4051728</th>\n",
       "      <td>robyn</td>\n",
       "      <td>Trust &amp; Respect ✊ ❤️</td>\n",
       "      <td>[trust, respect, ✊, ❤️]</td>\n",
       "    </tr>\n",
       "    <tr>\n",
       "      <th>703306</th>\n",
       "      <td>cher</td>\n",
       "      <td>Tired of the political bullshit. Was just a vo...</td>\n",
       "      <td>[tired, political, bullshit, voter, trump, mad...</td>\n",
       "    </tr>\n",
       "    <tr>\n",
       "      <th>1162940</th>\n",
       "      <td>cher</td>\n",
       "      <td>2k18🥀</td>\n",
       "      <td>[2k18🥀]</td>\n",
       "    </tr>\n",
       "    <tr>\n",
       "      <th>950287</th>\n",
       "      <td>cher</td>\n",
       "      <td>Lover of all things musical theatre. Eats way ...</td>\n",
       "      <td>[lover, things, musical, theatre, eats, way, m...</td>\n",
       "    </tr>\n",
       "    <tr>\n",
       "      <th>2573533</th>\n",
       "      <td>cher</td>\n",
       "      <td>•2015🎓 senior✌ •college freshman🤓 snapchat❣️: ...</td>\n",
       "      <td>[•2015🎓, senior✌, •college, freshman🤓, snapcha...</td>\n",
       "    </tr>\n",
       "    <tr>\n",
       "      <th>3623651</th>\n",
       "      <td>cher</td>\n",
       "      <td>hi my name is siobhan i am 31 I am engaged to ...</td>\n",
       "      <td>[hi, name, siobhan, 31, engaged, alan, mcmilla...</td>\n",
       "    </tr>\n",
       "    <tr>\n",
       "      <th>4195541</th>\n",
       "      <td>robyn</td>\n",
       "      <td>She/her. Lover of all things that make us feel...</td>\n",
       "      <td>[sheher, lover, things, make, us, feel, better...</td>\n",
       "    </tr>\n",
       "    <tr>\n",
       "      <th>1154494</th>\n",
       "      <td>cher</td>\n",
       "      <td>Mom of 3, no filter I say what I feel, I love ...</td>\n",
       "      <td>[mom, 3, filter, say, feel, love, jesus, cuss,...</td>\n",
       "    </tr>\n",
       "    <tr>\n",
       "      <th>3933824</th>\n",
       "      <td>cher</td>\n",
       "      <td>Live life passionately ❤ Laugh out loud ❤ Love...</td>\n",
       "      <td>[live, life, passionately, ❤, laugh, loud, ❤, ...</td>\n",
       "    </tr>\n",
       "  </tbody>\n",
       "</table>\n",
       "</div>"
      ],
      "text/plain": [
       "        artist                                        description  \\\n",
       "2449555   cher  You came in like a wave when I was feeling alr...   \n",
       "4051728  robyn                               Trust & Respect ✊ ❤️   \n",
       "703306    cher  Tired of the political bullshit. Was just a vo...   \n",
       "1162940   cher                                              2k18🥀   \n",
       "950287    cher  Lover of all things musical theatre. Eats way ...   \n",
       "2573533   cher  •2015🎓 senior✌ •college freshman🤓 snapchat❣️: ...   \n",
       "3623651   cher  hi my name is siobhan i am 31 I am engaged to ...   \n",
       "4195541  robyn  She/her. Lover of all things that make us feel...   \n",
       "1154494   cher  Mom of 3, no filter I say what I feel, I love ...   \n",
       "3933824   cher  Live life passionately ❤ Laugh out loud ❤ Love...   \n",
       "\n",
       "                                                    tokens  \n",
       "2449555            [came, like, wave, feeling, alright, 💜]  \n",
       "4051728                            [trust, respect, ✊, ❤️]  \n",
       "703306   [tired, political, bullshit, voter, trump, mad...  \n",
       "1162940                                            [2k18🥀]  \n",
       "950287   [lover, things, musical, theatre, eats, way, m...  \n",
       "2573533  [•2015🎓, senior✌, •college, freshman🤓, snapcha...  \n",
       "3623651  [hi, name, siobhan, 31, engaged, alan, mcmilla...  \n",
       "4195541  [sheher, lover, things, make, us, feel, better...  \n",
       "1154494  [mom, 3, filter, say, feel, love, jesus, cuss,...  \n",
       "3933824  [live, life, passionately, ❤, laugh, loud, ❤, ...  "
      ]
     },
     "execution_count": 183,
     "metadata": {},
     "output_type": "execute_result"
    }
   ],
   "source": [
    "twitter_data[twitter_data.has_emoji].sample(10)[[\"artist\",\"description\",\"tokens\"]]"
   ]
  },
  {
   "cell_type": "code",
   "execution_count": 184,
   "metadata": {},
   "outputs": [
    {
     "data": {
      "text/html": [
       "<div>\n",
       "<style scoped>\n",
       "    .dataframe tbody tr th:only-of-type {\n",
       "        vertical-align: middle;\n",
       "    }\n",
       "\n",
       "    .dataframe tbody tr th {\n",
       "        vertical-align: top;\n",
       "    }\n",
       "\n",
       "    .dataframe thead th {\n",
       "        text-align: right;\n",
       "    }\n",
       "</style>\n",
       "<table border=\"1\" class=\"dataframe\">\n",
       "  <thead>\n",
       "    <tr style=\"text-align: right;\">\n",
       "      <th></th>\n",
       "      <th>song</th>\n",
       "      <th>lyrics</th>\n",
       "      <th>artist</th>\n",
       "      <th>tokens</th>\n",
       "      <th>num_tokens</th>\n",
       "    </tr>\n",
       "  </thead>\n",
       "  <tbody>\n",
       "    <tr>\n",
       "      <th>0</th>\n",
       "      <td>88 Degrees</td>\n",
       "      <td>Stuck in L.A., ain't got no friends \\n\", 'And ...</td>\n",
       "      <td>cher</td>\n",
       "      <td>[stuck, la, aint, got, friends, n, hollywood, ...</td>\n",
       "      <td>246</td>\n",
       "    </tr>\n",
       "    <tr>\n",
       "      <th>1</th>\n",
       "      <td>A Different Kind Of Love Song</td>\n",
       "      <td>'What if the world was crazy and I was sane\\n'...</td>\n",
       "      <td>cher</td>\n",
       "      <td>[world, crazy, sanen, would, strangen, cant, b...</td>\n",
       "      <td>145</td>\n",
       "    </tr>\n",
       "    <tr>\n",
       "      <th>2</th>\n",
       "      <td>After All</td>\n",
       "      <td>'Well, here we are again\\n', 'I guess it must ...</td>\n",
       "      <td>cher</td>\n",
       "      <td>[well, againn, guess, must, faten, weve, tried...</td>\n",
       "      <td>146</td>\n",
       "    </tr>\n",
       "  </tbody>\n",
       "</table>\n",
       "</div>"
      ],
      "text/plain": [
       "                            song  \\\n",
       "0                     88 Degrees   \n",
       "1  A Different Kind Of Love Song   \n",
       "2                      After All   \n",
       "\n",
       "                                              lyrics artist  \\\n",
       "0  Stuck in L.A., ain't got no friends \\n\", 'And ...   cher   \n",
       "1  'What if the world was crazy and I was sane\\n'...   cher   \n",
       "2  'Well, here we are again\\n', 'I guess it must ...   cher   \n",
       "\n",
       "                                              tokens  num_tokens  \n",
       "0  [stuck, la, aint, got, friends, n, hollywood, ...         246  \n",
       "1  [world, crazy, sanen, would, strangen, cant, b...         145  \n",
       "2  [well, againn, guess, must, faten, weve, tried...         146  "
      ]
     },
     "execution_count": 184,
     "metadata": {},
     "output_type": "execute_result"
    }
   ],
   "source": [
    "lyrics_data.head(3)"
   ]
  },
  {
   "cell_type": "markdown",
   "metadata": {},
   "source": [
    "With the data processed, we can now start work on the assignment questions. \n",
    "\n",
    "Q: What is one area of improvement to your tokenization that you could theoretically carry out? (No need to actually do it; let's not make perfect the enemy of good enough.)\n",
    "\n",
    "A: "
   ]
  },
  {
   "cell_type": "markdown",
   "metadata": {},
   "source": [
    "## Calculate descriptive statistics on the two sets of lyrics and compare the results. \n"
   ]
  },
  {
   "cell_type": "markdown",
   "metadata": {},
   "source": [
    "I am going to assume that this is for different songs \n",
    "so I will just do 2 cher songs to compare how similar\n",
    "her 2 songs are to one another"
   ]
  },
  {
   "cell_type": "markdown",
   "metadata": {},
   "source": [
    "I ended up comparing 5 sets of lyrics,\n",
    "4 cher songs and 1 robyn song.\n",
    "This is because when I tested the first two\n",
    "cher songs, the results were identical so i thought I had\n",
    "an issue with my descriptive stats function.\n",
    "I then decided to test with 1 robyn song and \n",
    "2 more cher songs to verify. It looks like the\n",
    "there are some differences, but I still have some doubts.\n",
    "Maybe cher just likes to use the same number of stanzas \n",
    "for each song? not too sure"
   ]
  },
  {
   "cell_type": "code",
   "execution_count": 185,
   "metadata": {},
   "outputs": [],
   "source": [
    "#selecting first 2 rows of the data frame\n",
    "#source: https://www.geeksforgeeks.org/\n",
    "#get-the-first-3-rows-of-a-given-dataframe/\n",
    "\n",
    "cher_2_songs = lyrics_data.iloc[[0,1,2,4,29]]\n"
   ]
  },
  {
   "cell_type": "code",
   "execution_count": 186,
   "metadata": {},
   "outputs": [
    {
     "data": {
      "text/html": [
       "<div>\n",
       "<style scoped>\n",
       "    .dataframe tbody tr th:only-of-type {\n",
       "        vertical-align: middle;\n",
       "    }\n",
       "\n",
       "    .dataframe tbody tr th {\n",
       "        vertical-align: top;\n",
       "    }\n",
       "\n",
       "    .dataframe thead th {\n",
       "        text-align: right;\n",
       "    }\n",
       "</style>\n",
       "<table border=\"1\" class=\"dataframe\">\n",
       "  <thead>\n",
       "    <tr style=\"text-align: right;\">\n",
       "      <th></th>\n",
       "      <th>song</th>\n",
       "      <th>lyrics</th>\n",
       "      <th>artist</th>\n",
       "      <th>tokens</th>\n",
       "      <th>num_tokens</th>\n",
       "    </tr>\n",
       "  </thead>\n",
       "  <tbody>\n",
       "    <tr>\n",
       "      <th>0</th>\n",
       "      <td>88 Degrees</td>\n",
       "      <td>Stuck in L.A., ain't got no friends \\n\", 'And ...</td>\n",
       "      <td>cher</td>\n",
       "      <td>[stuck, la, aint, got, friends, n, hollywood, ...</td>\n",
       "      <td>246</td>\n",
       "    </tr>\n",
       "    <tr>\n",
       "      <th>1</th>\n",
       "      <td>A Different Kind Of Love Song</td>\n",
       "      <td>'What if the world was crazy and I was sane\\n'...</td>\n",
       "      <td>cher</td>\n",
       "      <td>[world, crazy, sanen, would, strangen, cant, b...</td>\n",
       "      <td>145</td>\n",
       "    </tr>\n",
       "    <tr>\n",
       "      <th>2</th>\n",
       "      <td>After All</td>\n",
       "      <td>'Well, here we are again\\n', 'I guess it must ...</td>\n",
       "      <td>cher</td>\n",
       "      <td>[well, againn, guess, must, faten, weve, tried...</td>\n",
       "      <td>146</td>\n",
       "    </tr>\n",
       "    <tr>\n",
       "      <th>4</th>\n",
       "      <td>Alfie</td>\n",
       "      <td>What's it all about, Alfie?\\n\", 'Is it just fo...</td>\n",
       "      <td>cher</td>\n",
       "      <td>[whats, alfien, moment, liven, whats, sort, al...</td>\n",
       "      <td>69</td>\n",
       "    </tr>\n",
       "    <tr>\n",
       "      <th>29</th>\n",
       "      <td>Big City</td>\n",
       "      <td>Lately shit's been driving me crazy\\n\", \"Won't...</td>\n",
       "      <td>robyn</td>\n",
       "      <td>[lately, shits, driving, crazyn, wont, take, o...</td>\n",
       "      <td>199</td>\n",
       "    </tr>\n",
       "  </tbody>\n",
       "</table>\n",
       "</div>"
      ],
      "text/plain": [
       "                             song  \\\n",
       "0                      88 Degrees   \n",
       "1   A Different Kind Of Love Song   \n",
       "2                       After All   \n",
       "4                           Alfie   \n",
       "29                       Big City   \n",
       "\n",
       "                                               lyrics artist  \\\n",
       "0   Stuck in L.A., ain't got no friends \\n\", 'And ...   cher   \n",
       "1   'What if the world was crazy and I was sane\\n'...   cher   \n",
       "2   'Well, here we are again\\n', 'I guess it must ...   cher   \n",
       "4   What's it all about, Alfie?\\n\", 'Is it just fo...   cher   \n",
       "29  Lately shit's been driving me crazy\\n\", \"Won't...  robyn   \n",
       "\n",
       "                                               tokens  num_tokens  \n",
       "0   [stuck, la, aint, got, friends, n, hollywood, ...         246  \n",
       "1   [world, crazy, sanen, would, strangen, cant, b...         145  \n",
       "2   [well, againn, guess, must, faten, weve, tried...         146  \n",
       "4   [whats, alfien, moment, liven, whats, sort, al...          69  \n",
       "29  [lately, shits, driving, crazyn, wont, take, o...         199  "
      ]
     },
     "execution_count": 186,
     "metadata": {},
     "output_type": "execute_result"
    }
   ],
   "source": [
    "cher_2_songs.head()"
   ]
  },
  {
   "cell_type": "code",
   "execution_count": 187,
   "metadata": {},
   "outputs": [
    {
     "name": "stdout",
     "output_type": "stream",
     "text": [
      "0    [stuck, la, aint, got, friends, n, hollywood, ...\n",
      "Name: tokens, dtype: object\n",
      "There are 13 tokens in the data.\n",
      "There are 13 unique tokens in the data.\n",
      "There are 67 characters in the data.\n",
      "The lexical diversity is 1.000 in the data.\n",
      "The top 5 words are [('0', 1), ('[stuck,', 1), ('la,', 1), ('aint,', 1), ('got,', 1)] in the data.\n",
      "\n",
      "\n",
      "1    [world, crazy, sanen, would, strangen, cant, b...\n",
      "Name: tokens, dtype: object\n",
      "There are 12 tokens in the data.\n",
      "There are 12 unique tokens in the data.\n",
      "There are 68 characters in the data.\n",
      "The lexical diversity is 1.000 in the data.\n",
      "The top 5 words are [('1', 1), ('[world,', 1), ('crazy,', 1), ('sanen,', 1), ('would,', 1)] in the data.\n",
      "\n",
      "\n",
      "2    [well, againn, guess, must, faten, weve, tried...\n",
      "Name: tokens, dtype: object\n",
      "There are 12 tokens in the data.\n",
      "There are 12 unique tokens in the data.\n",
      "There are 68 characters in the data.\n",
      "The lexical diversity is 1.000 in the data.\n",
      "The top 5 words are [('2', 1), ('[well,', 1), ('againn,', 1), ('guess,', 1), ('must,', 1)] in the data.\n",
      "\n",
      "\n",
      "4    [whats, alfien, moment, liven, whats, sort, al...\n",
      "Name: tokens, dtype: object\n",
      "There are 12 tokens in the data.\n",
      "There are 12 unique tokens in the data.\n",
      "There are 68 characters in the data.\n",
      "The lexical diversity is 1.000 in the data.\n",
      "The top 5 words are [('4', 1), ('[whats,', 1), ('alfien,', 1), ('moment,', 1), ('liven,', 1)] in the data.\n",
      "\n",
      "\n",
      "29    [lately, shits, driving, crazyn, wont, take, o...\n",
      "Name: tokens, dtype: object\n",
      "There are 12 tokens in the data.\n",
      "There are 12 unique tokens in the data.\n",
      "There are 69 characters in the data.\n",
      "The lexical diversity is 1.000 in the data.\n",
      "The top 5 words are [('29', 1), ('[lately,', 1), ('shits,', 1), ('driving,', 1), ('crazyn,', 1)] in the data.\n",
      "\n",
      "\n"
     ]
    }
   ],
   "source": [
    "#getting the lyrics from the description\n",
    "\n",
    "for i in range (0,5):\n",
    "    \n",
    "    lyrcs = str(cher_2_songs['tokens'].iloc[[i]])\n",
    "    print(lyrcs)\n",
    "    descriptive_stats(lyrcs)\n",
    "    print(\"\\n\")\n"
   ]
  },
  {
   "cell_type": "markdown",
   "metadata": {},
   "source": [
    "Q: what observations do you make about these data? \n",
    "\n",
    "A: \n"
   ]
  },
  {
   "cell_type": "markdown",
   "metadata": {},
   "source": [
    "## Find tokens uniquely related to a corpus\n",
    "\n",
    "Typically we would use TF-IDF to find unique tokens in documents. Unfortunately, we either have too few documents (if we view each data source as a single document) or too many (if we view each description as a separate document). In the latter case, our problem will be that descriptions tend to be short, so our matrix would be too sparse to support analysis. \n",
    "\n",
    "To avoid these problems, we will create a custom statistic to identify words that are uniquely related to each corpus. The idea is to find words that occur often in one corpus and infrequently in the other(s). Since corpora can be of different lengths, we will focus on the _concentration_ of tokens within a corpus. \"Concentration\" is simply the count of the token divided by the total corpus length. For instance, if a corpus had length 100,000 and a word appeared 1,000 times, then the concentration would be $\\frac{1000}{100000} = 0.01$. If the same token had a concentration of $0.005$ in another corpus, then the concentration ratio would be $\\frac{0.01}{0.005} = 2$. Very rare words can easily create infinite ratios, so you will also add a cutoff to your code so that a token must appear at least $n$ times for you to return it. \n",
    "\n",
    "An example of these calculations can be found in [this spreadsheet](https://docs.google.com/spreadsheets/d/1P87fkyslJhqXFnfYezNYrDrXp_GS8gwSATsZymv-9ms). Please don't hesitate to ask questions if this is confusing. \n",
    "\n",
    "In this section find 10 tokens for each of your four corpora that meet the following criteria: \n",
    "\n",
    "1. The token appears at least `n` times in all corpora\n",
    "1. The tokens are in the top 10 for the highest ratio of appearances in a given corpora vs appearances in other corpora.\n",
    "\n",
    "You will choose a cutoff for yourself based on the side of the corpus you're working with. If you're working with the Robyn-Cher corpora provided, `n=5` seems to perform reasonably well."
   ]
  },
  {
   "cell_type": "markdown",
   "metadata": {},
   "source": [
    "#### Used Guidance from Module 3.1 Presentation"
   ]
  },
  {
   "cell_type": "code",
   "execution_count": null,
   "metadata": {},
   "outputs": [],
   "source": [
    "\n",
    "    \n",
    "\n",
    "\n"
   ]
  },
  {
   "cell_type": "code",
   "execution_count": null,
   "metadata": {},
   "outputs": [],
   "source": []
  },
  {
   "cell_type": "code",
   "execution_count": null,
   "metadata": {},
   "outputs": [],
   "source": []
  },
  {
   "cell_type": "code",
   "execution_count": null,
   "metadata": {},
   "outputs": [],
   "source": []
  },
  {
   "cell_type": "code",
   "execution_count": null,
   "metadata": {},
   "outputs": [],
   "source": []
  },
  {
   "cell_type": "code",
   "execution_count": null,
   "metadata": {},
   "outputs": [],
   "source": []
  },
  {
   "cell_type": "code",
   "execution_count": null,
   "metadata": {},
   "outputs": [],
   "source": []
  },
  {
   "cell_type": "code",
   "execution_count": null,
   "metadata": {},
   "outputs": [],
   "source": []
  },
  {
   "cell_type": "code",
   "execution_count": null,
   "metadata": {},
   "outputs": [],
   "source": []
  },
  {
   "cell_type": "markdown",
   "metadata": {},
   "source": [
    "for robyn lyrics"
   ]
  },
  {
   "cell_type": "code",
   "execution_count": null,
   "metadata": {},
   "outputs": [],
   "source": []
  },
  {
   "cell_type": "markdown",
   "metadata": {},
   "source": [
    "for cher twitter"
   ]
  },
  {
   "cell_type": "code",
   "execution_count": null,
   "metadata": {},
   "outputs": [],
   "source": []
  },
  {
   "cell_type": "markdown",
   "metadata": {},
   "source": [
    "for robyn twitter"
   ]
  },
  {
   "cell_type": "code",
   "execution_count": null,
   "metadata": {},
   "outputs": [],
   "source": []
  },
  {
   "cell_type": "markdown",
   "metadata": {},
   "source": [
    "Q: What are some observations about the top tokens? Do you notice any interesting items on the list? \n",
    "\n",
    "A: "
   ]
  },
  {
   "cell_type": "markdown",
   "metadata": {},
   "source": [
    "## Build word clouds for all four corpora. \n",
    "\n",
    "For building wordclouds, we'll follow exactly the code of the text. The code in this section can be found [here](https://github.com/blueprints-for-text-analytics-python/blueprints-text/blob/master/ch01/First_Insights.ipynb). If you haven't already, you should absolutely clone the repository that accompanies the book. \n"
   ]
  },
  {
   "cell_type": "code",
   "execution_count": 188,
   "metadata": {},
   "outputs": [],
   "source": [
    "from matplotlib import pyplot as plt\n",
    "counting = 1\n",
    "\n",
    "def wordcloud(word_freq, title=None, max_words=200, stopwords=None):\n",
    "\n",
    "    wc = WordCloud(width=800, height=400, \n",
    "                   background_color= \"black\", colormap=\"Paired\", \n",
    "                   max_font_size=150, max_words=max_words)\n",
    "    \n",
    "    # convert data frame into dict\n",
    "    if type(word_freq) == pd.Series:\n",
    "        counter = Counter(word_freq.fillna(0).to_dict())\n",
    "    else:\n",
    "        counter = word_freq\n",
    "\n",
    "    # filter stop words in frequency counter\n",
    "    if stopwords is not None:\n",
    "        counter = {token:freq for (token, freq) in counter.items() \n",
    "                              if token not in stopwords}\n",
    "    wc.generate_from_frequencies(counter)\n",
    " \n",
    "    plt.title(title) \n",
    "\n",
    "    plt.imshow(wc, interpolation='bilinear')\n",
    "    plt.axis(\"off\")\n",
    "    \n",
    "    \n",
    "def count_words(df, column='tokens', preprocess=None, min_freq=2):\n",
    "\n",
    "    # process tokens and update counter\n",
    "    def update(doc):\n",
    "        tokens = doc if preprocess is None else preprocess(doc)\n",
    "        #tokens = str(df[column]).split()\n",
    "        counter.update(tokens)\n",
    "\n",
    "    # create counter and run through all data\n",
    "    counter = Counter()\n",
    "    df[column].map(update)\n",
    "\n",
    "    # transform counter into data frame\n",
    "    print(counting)\n",
    "    freq_df = pd.DataFrame.from_dict(counter, orient='index', columns=['freq'])\n",
    "    freq_df = freq_df.query('freq >= @min_freq')\n",
    "    freq_df.index.name = 'token'\n",
    "    \n",
    "    return freq_df.sort_values('freq', ascending=False)"
   ]
  },
  {
   "cell_type": "markdown",
   "metadata": {},
   "source": [
    "Dataframe for cher lyrics data"
   ]
  },
  {
   "cell_type": "code",
   "execution_count": 189,
   "metadata": {},
   "outputs": [],
   "source": [
    "#this was actually from code I did not \n",
    "#use in the last assignment, but commented out lol\n",
    "#source:\n",
    "#https://towardsdatascience.com/\n",
    "#select-data-in-python-pandas-\n",
    "#easily-with-loc-iloc-c6e8bc979e3e\n",
    "\n",
    "cher_lyrics_for_cloud = lyrics_data.loc[lyrics_data['artist'] == 'cher']"
   ]
  },
  {
   "cell_type": "code",
   "execution_count": 190,
   "metadata": {},
   "outputs": [
    {
     "data": {
      "text/html": [
       "<div>\n",
       "<style scoped>\n",
       "    .dataframe tbody tr th:only-of-type {\n",
       "        vertical-align: middle;\n",
       "    }\n",
       "\n",
       "    .dataframe tbody tr th {\n",
       "        vertical-align: top;\n",
       "    }\n",
       "\n",
       "    .dataframe thead th {\n",
       "        text-align: right;\n",
       "    }\n",
       "</style>\n",
       "<table border=\"1\" class=\"dataframe\">\n",
       "  <thead>\n",
       "    <tr style=\"text-align: right;\">\n",
       "      <th></th>\n",
       "      <th>song</th>\n",
       "      <th>lyrics</th>\n",
       "      <th>artist</th>\n",
       "      <th>tokens</th>\n",
       "      <th>num_tokens</th>\n",
       "    </tr>\n",
       "  </thead>\n",
       "  <tbody>\n",
       "    <tr>\n",
       "      <th>0</th>\n",
       "      <td>88 Degrees</td>\n",
       "      <td>Stuck in L.A., ain't got no friends \\n\", 'And ...</td>\n",
       "      <td>cher</td>\n",
       "      <td>[stuck, la, aint, got, friends, n, hollywood, ...</td>\n",
       "      <td>246</td>\n",
       "    </tr>\n",
       "    <tr>\n",
       "      <th>1</th>\n",
       "      <td>A Different Kind Of Love Song</td>\n",
       "      <td>'What if the world was crazy and I was sane\\n'...</td>\n",
       "      <td>cher</td>\n",
       "      <td>[world, crazy, sanen, would, strangen, cant, b...</td>\n",
       "      <td>145</td>\n",
       "    </tr>\n",
       "    <tr>\n",
       "      <th>2</th>\n",
       "      <td>After All</td>\n",
       "      <td>'Well, here we are again\\n', 'I guess it must ...</td>\n",
       "      <td>cher</td>\n",
       "      <td>[well, againn, guess, must, faten, weve, tried...</td>\n",
       "      <td>146</td>\n",
       "    </tr>\n",
       "    <tr>\n",
       "      <th>3</th>\n",
       "      <td>Again</td>\n",
       "      <td>'Again evening finds me at your door \\n', 'Her...</td>\n",
       "      <td>cher</td>\n",
       "      <td>[evening, finds, door, n, ask, n, could, try, ...</td>\n",
       "      <td>48</td>\n",
       "    </tr>\n",
       "    <tr>\n",
       "      <th>4</th>\n",
       "      <td>Alfie</td>\n",
       "      <td>What's it all about, Alfie?\\n\", 'Is it just fo...</td>\n",
       "      <td>cher</td>\n",
       "      <td>[whats, alfien, moment, liven, whats, sort, al...</td>\n",
       "      <td>69</td>\n",
       "    </tr>\n",
       "  </tbody>\n",
       "</table>\n",
       "</div>"
      ],
      "text/plain": [
       "                            song  \\\n",
       "0                     88 Degrees   \n",
       "1  A Different Kind Of Love Song   \n",
       "2                      After All   \n",
       "3                          Again   \n",
       "4                          Alfie   \n",
       "\n",
       "                                              lyrics artist  \\\n",
       "0  Stuck in L.A., ain't got no friends \\n\", 'And ...   cher   \n",
       "1  'What if the world was crazy and I was sane\\n'...   cher   \n",
       "2  'Well, here we are again\\n', 'I guess it must ...   cher   \n",
       "3  'Again evening finds me at your door \\n', 'Her...   cher   \n",
       "4  What's it all about, Alfie?\\n\", 'Is it just fo...   cher   \n",
       "\n",
       "                                              tokens  num_tokens  \n",
       "0  [stuck, la, aint, got, friends, n, hollywood, ...         246  \n",
       "1  [world, crazy, sanen, would, strangen, cant, b...         145  \n",
       "2  [well, againn, guess, must, faten, weve, tried...         146  \n",
       "3  [evening, finds, door, n, ask, n, could, try, ...          48  \n",
       "4  [whats, alfien, moment, liven, whats, sort, al...          69  "
      ]
     },
     "execution_count": 190,
     "metadata": {},
     "output_type": "execute_result"
    }
   ],
   "source": [
    "cher_lyrics_for_cloud.head()"
   ]
  },
  {
   "cell_type": "code",
   "execution_count": 191,
   "metadata": {},
   "outputs": [
    {
     "name": "stdout",
     "output_type": "stream",
     "text": [
      "1\n"
     ]
    }
   ],
   "source": [
    "#putting cher_lyrics_for_cloud through\n",
    "#the count_words dataframe\n",
    "\n",
    "cher_count_words = count_words(cher_lyrics_for_cloud)"
   ]
  },
  {
   "cell_type": "code",
   "execution_count": 192,
   "metadata": {},
   "outputs": [
    {
     "data": {
      "text/html": [
       "<div>\n",
       "<style scoped>\n",
       "    .dataframe tbody tr th:only-of-type {\n",
       "        vertical-align: middle;\n",
       "    }\n",
       "\n",
       "    .dataframe tbody tr th {\n",
       "        vertical-align: top;\n",
       "    }\n",
       "\n",
       "    .dataframe thead th {\n",
       "        text-align: right;\n",
       "    }\n",
       "</style>\n",
       "<table border=\"1\" class=\"dataframe\">\n",
       "  <thead>\n",
       "    <tr style=\"text-align: right;\">\n",
       "      <th></th>\n",
       "      <th>freq</th>\n",
       "    </tr>\n",
       "    <tr>\n",
       "      <th>token</th>\n",
       "      <th></th>\n",
       "    </tr>\n",
       "  </thead>\n",
       "  <tbody>\n",
       "    <tr>\n",
       "      <th>n</th>\n",
       "      <td>308</td>\n",
       "    </tr>\n",
       "    <tr>\n",
       "      <th>bang</th>\n",
       "      <td>77</td>\n",
       "    </tr>\n",
       "    <tr>\n",
       "      <th>dont</th>\n",
       "      <td>54</td>\n",
       "    </tr>\n",
       "    <tr>\n",
       "      <th>youn</th>\n",
       "      <td>48</td>\n",
       "    </tr>\n",
       "    <tr>\n",
       "      <th>love</th>\n",
       "      <td>42</td>\n",
       "    </tr>\n",
       "    <tr>\n",
       "      <th>im</th>\n",
       "      <td>38</td>\n",
       "    </tr>\n",
       "    <tr>\n",
       "      <th>baby</th>\n",
       "      <td>35</td>\n",
       "    </tr>\n",
       "    <tr>\n",
       "      <th>youre</th>\n",
       "      <td>28</td>\n",
       "    </tr>\n",
       "    <tr>\n",
       "      <th>want</th>\n",
       "      <td>25</td>\n",
       "    </tr>\n",
       "    <tr>\n",
       "      <th>cant</th>\n",
       "      <td>24</td>\n",
       "    </tr>\n",
       "  </tbody>\n",
       "</table>\n",
       "</div>"
      ],
      "text/plain": [
       "       freq\n",
       "token      \n",
       "n       308\n",
       "bang     77\n",
       "dont     54\n",
       "youn     48\n",
       "love     42\n",
       "im       38\n",
       "baby     35\n",
       "youre    28\n",
       "want     25\n",
       "cant     24"
      ]
     },
     "execution_count": 192,
     "metadata": {},
     "output_type": "execute_result"
    }
   ],
   "source": [
    "#checking output\n",
    "cher_count_words.head(10)"
   ]
  },
  {
   "cell_type": "code",
   "execution_count": 193,
   "metadata": {},
   "outputs": [
    {
     "data": {
      "image/png": "[encoded data removed]",
      "text/plain": [
       "<Figure size 432x288 with 1 Axes>"
      ]
     },
     "metadata": {
      "needs_background": "light"
     },
     "output_type": "display_data"
    }
   ],
   "source": [
    "wordcloud(cher_count_words['freq'])"
   ]
  },
  {
   "cell_type": "markdown",
   "metadata": {},
   "source": [
    "Now for robyn!"
   ]
  },
  {
   "cell_type": "code",
   "execution_count": 194,
   "metadata": {},
   "outputs": [],
   "source": [
    "#this was actually from code I did not \n",
    "#use in the last assignment, but commented out lol\n",
    "#source:\n",
    "#https://towardsdatascience.com/\n",
    "#select-data-in-python-pandas-\n",
    "#easily-with-loc-iloc-c6e8bc979e3e\n",
    "\n",
    "robyn_lyrics_for_cloud = lyrics_data.loc[lyrics_data['artist'] == 'robyn'].reset_index()"
   ]
  },
  {
   "cell_type": "code",
   "execution_count": 195,
   "metadata": {},
   "outputs": [
    {
     "data": {
      "text/html": [
       "<div>\n",
       "<style scoped>\n",
       "    .dataframe tbody tr th:only-of-type {\n",
       "        vertical-align: middle;\n",
       "    }\n",
       "\n",
       "    .dataframe tbody tr th {\n",
       "        vertical-align: top;\n",
       "    }\n",
       "\n",
       "    .dataframe thead th {\n",
       "        text-align: right;\n",
       "    }\n",
       "</style>\n",
       "<table border=\"1\" class=\"dataframe\">\n",
       "  <thead>\n",
       "    <tr style=\"text-align: right;\">\n",
       "      <th></th>\n",
       "      <th>index</th>\n",
       "      <th>song</th>\n",
       "      <th>lyrics</th>\n",
       "      <th>artist</th>\n",
       "      <th>tokens</th>\n",
       "      <th>num_tokens</th>\n",
       "    </tr>\n",
       "  </thead>\n",
       "  <tbody>\n",
       "    <tr>\n",
       "      <th>0</th>\n",
       "      <td>21</td>\n",
       "      <td>88 Days</td>\n",
       "      <td>'I light a candle in the morning \\n', 'To sign...</td>\n",
       "      <td>robyn</td>\n",
       "      <td>[light, candle, morning, n, signify, still, mi...</td>\n",
       "      <td>219</td>\n",
       "    </tr>\n",
       "    <tr>\n",
       "      <th>1</th>\n",
       "      <td>22</td>\n",
       "      <td>Ain't No Thing</td>\n",
       "      <td>'[Verse 1:]\\n', 'Boy you gotta want me, really...</td>\n",
       "      <td>robyn</td>\n",
       "      <td>[verse, 1n, boy, gotta, want, really, really, ...</td>\n",
       "      <td>76</td>\n",
       "    </tr>\n",
       "    <tr>\n",
       "      <th>2</th>\n",
       "      <td>23</td>\n",
       "      <td>Anytime You Like</td>\n",
       "      <td>It's like you're waiting for me to start\\n\", \"...</td>\n",
       "      <td>robyn</td>\n",
       "      <td>[like, youre, waiting, startn, theres, right, ...</td>\n",
       "      <td>130</td>\n",
       "    </tr>\n",
       "  </tbody>\n",
       "</table>\n",
       "</div>"
      ],
      "text/plain": [
       "   index              song                                             lyrics  \\\n",
       "0     21           88 Days  'I light a candle in the morning \\n', 'To sign...   \n",
       "1     22    Ain't No Thing  '[Verse 1:]\\n', 'Boy you gotta want me, really...   \n",
       "2     23  Anytime You Like  It's like you're waiting for me to start\\n\", \"...   \n",
       "\n",
       "  artist                                             tokens  num_tokens  \n",
       "0  robyn  [light, candle, morning, n, signify, still, mi...         219  \n",
       "1  robyn  [verse, 1n, boy, gotta, want, really, really, ...          76  \n",
       "2  robyn  [like, youre, waiting, startn, theres, right, ...         130  "
      ]
     },
     "execution_count": 195,
     "metadata": {},
     "output_type": "execute_result"
    }
   ],
   "source": [
    "robyn_lyrics_for_cloud.head(3)"
   ]
  },
  {
   "cell_type": "code",
   "execution_count": 196,
   "metadata": {},
   "outputs": [
    {
     "name": "stdout",
     "output_type": "stream",
     "text": [
      "1\n"
     ]
    }
   ],
   "source": [
    "#putting robyn_lyrics_for_cloud through\n",
    "#the count_words dataframe\n",
    "\n",
    "robyn_count_words = count_words(robyn_lyrics_for_cloud)"
   ]
  },
  {
   "cell_type": "code",
   "execution_count": 197,
   "metadata": {},
   "outputs": [
    {
     "data": {
      "text/html": [
       "<div>\n",
       "<style scoped>\n",
       "    .dataframe tbody tr th:only-of-type {\n",
       "        vertical-align: middle;\n",
       "    }\n",
       "\n",
       "    .dataframe tbody tr th {\n",
       "        vertical-align: top;\n",
       "    }\n",
       "\n",
       "    .dataframe thead th {\n",
       "        text-align: right;\n",
       "    }\n",
       "</style>\n",
       "<table border=\"1\" class=\"dataframe\">\n",
       "  <thead>\n",
       "    <tr style=\"text-align: right;\">\n",
       "      <th></th>\n",
       "      <th>freq</th>\n",
       "    </tr>\n",
       "    <tr>\n",
       "      <th>token</th>\n",
       "      <th></th>\n",
       "    </tr>\n",
       "  </thead>\n",
       "  <tbody>\n",
       "    <tr>\n",
       "      <th>n</th>\n",
       "      <td>171</td>\n",
       "    </tr>\n",
       "    <tr>\n",
       "      <th>dont</th>\n",
       "      <td>51</td>\n",
       "    </tr>\n",
       "    <tr>\n",
       "      <th>got</th>\n",
       "      <td>49</td>\n",
       "    </tr>\n",
       "  </tbody>\n",
       "</table>\n",
       "</div>"
      ],
      "text/plain": [
       "       freq\n",
       "token      \n",
       "n       171\n",
       "dont     51\n",
       "got      49"
      ]
     },
     "execution_count": 197,
     "metadata": {},
     "output_type": "execute_result"
    }
   ],
   "source": [
    "#checking that the word frequency for robyn\n",
    "#has words\n",
    "robyn_count_words.head(3)"
   ]
  },
  {
   "cell_type": "code",
   "execution_count": 198,
   "metadata": {},
   "outputs": [
    {
     "data": {
      "image/png": "[encoded data removed]",
      "text/plain": [
       "<Figure size 432x288 with 1 Axes>"
      ]
     },
     "metadata": {
      "needs_background": "light"
     },
     "output_type": "display_data"
    }
   ],
   "source": [
    "#Yay! This is so cool - I'm a fan\n",
    "wordcloud(robyn_count_words['freq'])"
   ]
  },
  {
   "cell_type": "markdown",
   "metadata": {},
   "source": [
    "Making word clouds for twitter data"
   ]
  },
  {
   "cell_type": "code",
   "execution_count": 199,
   "metadata": {},
   "outputs": [],
   "source": [
    "#for cher twitter\n",
    "cher_twitter_for_cloud = twitter_data.loc[twitter_data['artist'] == 'cher']"
   ]
  },
  {
   "cell_type": "code",
   "execution_count": 200,
   "metadata": {},
   "outputs": [
    {
     "data": {
      "text/html": [
       "<div>\n",
       "<style scoped>\n",
       "    .dataframe tbody tr th:only-of-type {\n",
       "        vertical-align: middle;\n",
       "    }\n",
       "\n",
       "    .dataframe tbody tr th {\n",
       "        vertical-align: top;\n",
       "    }\n",
       "\n",
       "    .dataframe thead th {\n",
       "        text-align: right;\n",
       "    }\n",
       "</style>\n",
       "<table border=\"1\" class=\"dataframe\">\n",
       "  <thead>\n",
       "    <tr style=\"text-align: right;\">\n",
       "      <th></th>\n",
       "      <th>screen_name</th>\n",
       "      <th>name</th>\n",
       "      <th>id</th>\n",
       "      <th>location</th>\n",
       "      <th>followers_count</th>\n",
       "      <th>friends_count</th>\n",
       "      <th>description</th>\n",
       "      <th>artist</th>\n",
       "      <th>tokens</th>\n",
       "      <th>num_tokens</th>\n",
       "      <th>has_emoji</th>\n",
       "    </tr>\n",
       "  </thead>\n",
       "  <tbody>\n",
       "    <tr>\n",
       "      <th>0</th>\n",
       "      <td>hsmcnp</td>\n",
       "      <td>Country Girl</td>\n",
       "      <td>35152213</td>\n",
       "      <td>NaN</td>\n",
       "      <td>1302</td>\n",
       "      <td>1014</td>\n",
       "      <td>NaN</td>\n",
       "      <td>cher</td>\n",
       "      <td>[nan]</td>\n",
       "      <td>1</td>\n",
       "      <td>False</td>\n",
       "    </tr>\n",
       "    <tr>\n",
       "      <th>1</th>\n",
       "      <td>horrormomy</td>\n",
       "      <td>Jeny</td>\n",
       "      <td>742153090850164742</td>\n",
       "      <td>Earth</td>\n",
       "      <td>81</td>\n",
       "      <td>514</td>\n",
       "      <td>𝙿𝚛𝚘𝚞𝚍 𝚜𝚞𝚙𝚙𝚘𝚛𝚝𝚎𝚛 𝚘𝚏 𝚖𝚎𝚜𝚜𝚢 𝚋𝚞𝚗𝚜 &amp; 𝚕𝚎𝚐𝚐𝚒𝚗𝚐𝚜</td>\n",
       "      <td>cher</td>\n",
       "      <td>[𝙿𝚛𝚘𝚞𝚍, 𝚜𝚞𝚙𝚙𝚘𝚛𝚝𝚎𝚛, 𝚘𝚏, 𝚖𝚎𝚜𝚜𝚢, 𝚋𝚞𝚗𝚜, 𝚕𝚎𝚐𝚐𝚒𝚗𝚐𝚜]</td>\n",
       "      <td>6</td>\n",
       "      <td>False</td>\n",
       "    </tr>\n",
       "    <tr>\n",
       "      <th>2</th>\n",
       "      <td>anju79990584</td>\n",
       "      <td>anju</td>\n",
       "      <td>1496463006451974150</td>\n",
       "      <td>NaN</td>\n",
       "      <td>13</td>\n",
       "      <td>140</td>\n",
       "      <td>163㎝／愛かっぷ💜26歳🍒 工〇好きな女の子💓 フォローしてくれたらDMします🧡</td>\n",
       "      <td>cher</td>\n",
       "      <td>[163㎝／愛かっぷ💜26歳🍒, 工〇好きな女の子💓, フォローしてくれたらdmします🧡]</td>\n",
       "      <td>3</td>\n",
       "      <td>True</td>\n",
       "    </tr>\n",
       "    <tr>\n",
       "      <th>3</th>\n",
       "      <td>gallionjenna</td>\n",
       "      <td>J</td>\n",
       "      <td>3366479914</td>\n",
       "      <td>NaN</td>\n",
       "      <td>752</td>\n",
       "      <td>556</td>\n",
       "      <td>csu</td>\n",
       "      <td>cher</td>\n",
       "      <td>[csu]</td>\n",
       "      <td>1</td>\n",
       "      <td>False</td>\n",
       "    </tr>\n",
       "    <tr>\n",
       "      <th>4</th>\n",
       "      <td>bcscomm</td>\n",
       "      <td>bcscomm</td>\n",
       "      <td>83915043</td>\n",
       "      <td>Washington, DC</td>\n",
       "      <td>888</td>\n",
       "      <td>2891</td>\n",
       "      <td>Writer @Washinformer @SpelmanCollege alumna #D...</td>\n",
       "      <td>cher</td>\n",
       "      <td>[writer, washinformer, spelmancollege, alumna,...</td>\n",
       "      <td>17</td>\n",
       "      <td>False</td>\n",
       "    </tr>\n",
       "  </tbody>\n",
       "</table>\n",
       "</div>"
      ],
      "text/plain": [
       "    screen_name          name                   id        location  \\\n",
       "0        hsmcnp  Country Girl             35152213             NaN   \n",
       "1    horrormomy          Jeny   742153090850164742           Earth   \n",
       "2  anju79990584          anju  1496463006451974150             NaN   \n",
       "3  gallionjenna             J           3366479914             NaN   \n",
       "4       bcscomm       bcscomm             83915043  Washington, DC   \n",
       "\n",
       "   followers_count  friends_count  \\\n",
       "0             1302           1014   \n",
       "1               81            514   \n",
       "2               13            140   \n",
       "3              752            556   \n",
       "4              888           2891   \n",
       "\n",
       "                                         description artist  \\\n",
       "0                                                NaN   cher   \n",
       "1           𝙿𝚛𝚘𝚞𝚍 𝚜𝚞𝚙𝚙𝚘𝚛𝚝𝚎𝚛 𝚘𝚏 𝚖𝚎𝚜𝚜𝚢 𝚋𝚞𝚗𝚜 & 𝚕𝚎𝚐𝚐𝚒𝚗𝚐𝚜   cher   \n",
       "2          163㎝／愛かっぷ💜26歳🍒 工〇好きな女の子💓 フォローしてくれたらDMします🧡   cher   \n",
       "3                                                csu   cher   \n",
       "4  Writer @Washinformer @SpelmanCollege alumna #D...   cher   \n",
       "\n",
       "                                              tokens  num_tokens  has_emoji  \n",
       "0                                              [nan]           1      False  \n",
       "1      [𝙿𝚛𝚘𝚞𝚍, 𝚜𝚞𝚙𝚙𝚘𝚛𝚝𝚎𝚛, 𝚘𝚏, 𝚖𝚎𝚜𝚜𝚢, 𝚋𝚞𝚗𝚜, 𝚕𝚎𝚐𝚐𝚒𝚗𝚐𝚜]           6      False  \n",
       "2      [163㎝／愛かっぷ💜26歳🍒, 工〇好きな女の子💓, フォローしてくれたらdmします🧡]           3       True  \n",
       "3                                              [csu]           1      False  \n",
       "4  [writer, washinformer, spelmancollege, alumna,...          17      False  "
      ]
     },
     "execution_count": 200,
     "metadata": {},
     "output_type": "execute_result"
    }
   ],
   "source": [
    "cher_twitter_for_cloud.head()"
   ]
  },
  {
   "cell_type": "code",
   "execution_count": 201,
   "metadata": {},
   "outputs": [
    {
     "name": "stdout",
     "output_type": "stream",
     "text": [
      "1\n"
     ]
    }
   ],
   "source": [
    "cher__twitter_count_words = count_words(cher_twitter_for_cloud)"
   ]
  },
  {
   "cell_type": "code",
   "execution_count": 203,
   "metadata": {},
   "outputs": [
    {
     "data": {
      "text/html": [
       "<div>\n",
       "<style scoped>\n",
       "    .dataframe tbody tr th:only-of-type {\n",
       "        vertical-align: middle;\n",
       "    }\n",
       "\n",
       "    .dataframe tbody tr th {\n",
       "        vertical-align: top;\n",
       "    }\n",
       "\n",
       "    .dataframe thead th {\n",
       "        text-align: right;\n",
       "    }\n",
       "</style>\n",
       "<table border=\"1\" class=\"dataframe\">\n",
       "  <thead>\n",
       "    <tr style=\"text-align: right;\">\n",
       "      <th></th>\n",
       "      <th>freq</th>\n",
       "    </tr>\n",
       "    <tr>\n",
       "      <th>token</th>\n",
       "      <th></th>\n",
       "    </tr>\n",
       "  </thead>\n",
       "  <tbody>\n",
       "    <tr>\n",
       "      <th>nan</th>\n",
       "      <td>1994031</td>\n",
       "    </tr>\n",
       "    <tr>\n",
       "      <th>love</th>\n",
       "      <td>213522</td>\n",
       "    </tr>\n",
       "    <tr>\n",
       "      <th>im</th>\n",
       "      <td>139051</td>\n",
       "    </tr>\n",
       "    <tr>\n",
       "      <th>life</th>\n",
       "      <td>122679</td>\n",
       "    </tr>\n",
       "    <tr>\n",
       "      <th>music</th>\n",
       "      <td>86733</td>\n",
       "    </tr>\n",
       "    <tr>\n",
       "      <th>de</th>\n",
       "      <td>72970</td>\n",
       "    </tr>\n",
       "    <tr>\n",
       "      <th>follow</th>\n",
       "      <td>62166</td>\n",
       "    </tr>\n",
       "    <tr>\n",
       "      <th>lover</th>\n",
       "      <td>60191</td>\n",
       "    </tr>\n",
       "    <tr>\n",
       "      <th>like</th>\n",
       "      <td>58566</td>\n",
       "    </tr>\n",
       "    <tr>\n",
       "      <th>mom</th>\n",
       "      <td>53465</td>\n",
       "    </tr>\n",
       "  </tbody>\n",
       "</table>\n",
       "</div>"
      ],
      "text/plain": [
       "           freq\n",
       "token          \n",
       "nan     1994031\n",
       "love     213522\n",
       "im       139051\n",
       "life     122679\n",
       "music     86733\n",
       "de        72970\n",
       "follow    62166\n",
       "lover     60191\n",
       "like      58566\n",
       "mom       53465"
      ]
     },
     "execution_count": 203,
     "metadata": {},
     "output_type": "execute_result"
    }
   ],
   "source": [
    "#this took a litle over 2 hours to run but\n",
    "#I forgot to look for removing nans and\n",
    "#for some reason numbers showed up, whoops\n",
    "#whole lotta foreign fans though \n",
    "cher__twitter_count_words.head(10)"
   ]
  },
  {
   "cell_type": "code",
   "execution_count": 204,
   "metadata": {},
   "outputs": [
    {
     "data": {
      "image/png": "[encoded data removed]",
      "text/plain": [
       "<Figure size 432x288 with 1 Axes>"
      ]
     },
     "metadata": {
      "needs_background": "light"
     },
     "output_type": "display_data"
    }
   ],
   "source": [
    "wordcloud(cher__twitter_count_words['freq'])"
   ]
  },
  {
   "cell_type": "code",
   "execution_count": null,
   "metadata": {},
   "outputs": [],
   "source": []
  },
  {
   "cell_type": "code",
   "execution_count": null,
   "metadata": {},
   "outputs": [],
   "source": []
  },
  {
   "cell_type": "code",
   "execution_count": null,
   "metadata": {},
   "outputs": [],
   "source": []
  },
  {
   "cell_type": "code",
   "execution_count": null,
   "metadata": {},
   "outputs": [],
   "source": []
  },
  {
   "cell_type": "markdown",
   "metadata": {},
   "source": [
    "Q: What observations do you have about these (relatively straightforward) wordclouds? \n",
    "\n",
    "A: "
   ]
  }
 ],
 "metadata": {
  "kernelspec": {
   "display_name": "Python 3",
   "language": "python",
   "name": "python3"
  },
  "language_info": {
   "codemirror_mode": {
    "name": "ipython",
    "version": 3
   },
   "file_extension": ".py",
   "mimetype": "text/x-python",
   "name": "python",
   "nbconvert_exporter": "python",
   "pygments_lexer": "ipython3",
   "version": "3.8.5"
  }
 },
 "nbformat": 4,
 "nbformat_minor": 5
}
